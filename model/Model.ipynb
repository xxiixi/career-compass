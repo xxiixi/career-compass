{
 "cells": [
  {
   "cell_type": "code",
   "execution_count": 182,
   "id": "initial_id",
   "metadata": {
    "collapsed": true,
    "ExecuteTime": {
     "end_time": "2024-04-18T10:28:04.901379Z",
     "start_time": "2024-04-18T10:28:04.898831Z"
    }
   },
   "outputs": [],
   "source": [
    "from sklearn.model_selection import train_test_split\n",
    "import xgboost as xgb\n",
    "import pandas as pd"
   ]
  },
  {
   "cell_type": "code",
   "outputs": [],
   "source": [
    "\n",
    "categories_refined = {\n",
    "    \"前端开发\": [\"前端\", \"Web\", \"前端开发工程师\", \"JavaScript\",\"HTML\", \"CSS\", \"JavaScript\", \"Vue\", \"React\", \"Angular\", \"H5\"],\n",
    "    \"后端开发\": [\"后端\", \"Java\", \"Python开发\", \"后端工程师\", \"Node.js\", \"C#\",\"PHP\",\"net\", \"软件工程师\", \"安卓\",\"IOS\", \"软件开发\", \"Golang\",\"golang\",\"java\", \"Android\", \"iOS\", \"C++\", \"JAVA\", \"NET\",\"ios\"],\n",
    "    \"运维\": [\"运维\", \"DevOps\", \"系统管理员\", \"网络\", \"信息安全\", \"管理员\", \"Linux\", \"Docker\", \"Kubernetes\", \"CI/CD\", \"自动化部署\", \"网络安全\", \"维护\", \"Dev\", \"ETL\", \"OpenStack\", \"sre\", \"驻场\"],\n",
    "    \"人工智能&分析决策\": [\"人工智能\", \"机器学习\", \"深度学习\", \"数据分析\", \"NLP\", \"算法\",\"视觉\", \"TensorFlow\", \"PyTorch\", \"大模型\", \"AI\", \"智能\", \"分析\", \"Analyst\", \"BI\", \"机器人\", \"量化\", \"自然语言处理\"]\n",
    "}\n",
    "\n",
    "# Function to classify job positions based on job title only\n",
    "def classify_position_by_title(row):\n",
    "    title = row['职位']\n",
    "    for category, keywords in categories_refined.items():\n",
    "        if any(keyword in title for keyword in keywords):\n",
    "            return category\n",
    "    return \"其他\"\n"
   ],
   "metadata": {
    "collapsed": false,
    "ExecuteTime": {
     "end_time": "2024-04-18T10:28:16.870683Z",
     "start_time": "2024-04-18T10:28:16.866242Z"
    }
   },
   "id": "8f116e443a5bd76f",
   "execution_count": 184
  },
  {
   "cell_type": "code",
   "outputs": [],
   "source": [
    "file_path = '/Users/leonliao/Library/CloudStorage/OneDrive-GeorgiaInstituteofTechnology/Junzhe/CSE 6242/Project/Updated-Classified-Model-Data-xlsx.csv'\n",
    "data = pd.read_csv(file_path)"
   ],
   "metadata": {
    "collapsed": false,
    "ExecuteTime": {
     "end_time": "2024-04-18T10:31:22.845999Z",
     "start_time": "2024-04-18T10:31:22.826819Z"
    }
   },
   "id": "57ad7c1d81192305",
   "execution_count": 198
  },
  {
   "cell_type": "code",
   "outputs": [
    {
     "name": "stderr",
     "output_type": "stream",
     "text": [
      "/var/folders/ct/_hxnz_6n7wqft3v31kp1tyhw0000gn/T/ipykernel_2890/1392714902.py:26: SettingWithCopyWarning: \n",
      "A value is trying to be set on a copy of a slice from a DataFrame.\n",
      "Try using .loc[row_indexer,col_indexer] = value instead\n",
      "\n",
      "See the caveats in the documentation: https://pandas.pydata.org/pandas-docs/stable/user_guide/indexing.html#returning-a-view-versus-a-copy\n",
      "  filtered_data['city'] = filtered_data['city'].map(city_translations).fillna(filtered_data['city'])\n",
      "/var/folders/ct/_hxnz_6n7wqft3v31kp1tyhw0000gn/T/ipykernel_2890/1392714902.py:27: SettingWithCopyWarning: \n",
      "A value is trying to be set on a copy of a slice from a DataFrame.\n",
      "Try using .loc[row_indexer,col_indexer] = value instead\n",
      "\n",
      "See the caveats in the documentation: https://pandas.pydata.org/pandas-docs/stable/user_guide/indexing.html#returning-a-view-versus-a-copy\n",
      "  filtered_data['分类'] = filtered_data['分类'].map(category_translations).fillna(filtered_data['分类'])\n",
      "/var/folders/ct/_hxnz_6n7wqft3v31kp1tyhw0000gn/T/ipykernel_2890/1392714902.py:28: SettingWithCopyWarning: \n",
      "A value is trying to be set on a copy of a slice from a DataFrame.\n",
      "Try using .loc[row_indexer,col_indexer] = value instead\n",
      "\n",
      "See the caveats in the documentation: https://pandas.pydata.org/pandas-docs/stable/user_guide/indexing.html#returning-a-view-versus-a-copy\n",
      "  filtered_data['company_size'] = filtered_data['company_size'].str.extract('(\\d+-\\d+人|\\d+人以上)')\n"
     ]
    },
    {
     "data": {
      "text/plain": "       city  average_salary  education experience company_size  \\\n0  Shanghai            12.0   Bachelor        3-5       20-99人   \n1  Shanghai            42.0     Master        1-3       20-99人   \n2  Shanghai            14.0  Associate        3-5     100-499人   \n3  Shanghai            18.0  Associate  unlimited       20-99人   \n4  Shanghai            15.0   Bachelor  unlimited     10000人以上   \n\n                     分类  \n0   Backend Development  \n1        AI & Analytics  \n2  Frontend Development  \n3   Backend Development  \n4   Backend Development  ",
      "text/html": "<div>\n<style scoped>\n    .dataframe tbody tr th:only-of-type {\n        vertical-align: middle;\n    }\n\n    .dataframe tbody tr th {\n        vertical-align: top;\n    }\n\n    .dataframe thead th {\n        text-align: right;\n    }\n</style>\n<table border=\"1\" class=\"dataframe\">\n  <thead>\n    <tr style=\"text-align: right;\">\n      <th></th>\n      <th>city</th>\n      <th>average_salary</th>\n      <th>education</th>\n      <th>experience</th>\n      <th>company_size</th>\n      <th>分类</th>\n    </tr>\n  </thead>\n  <tbody>\n    <tr>\n      <th>0</th>\n      <td>Shanghai</td>\n      <td>12.0</td>\n      <td>Bachelor</td>\n      <td>3-5</td>\n      <td>20-99人</td>\n      <td>Backend Development</td>\n    </tr>\n    <tr>\n      <th>1</th>\n      <td>Shanghai</td>\n      <td>42.0</td>\n      <td>Master</td>\n      <td>1-3</td>\n      <td>20-99人</td>\n      <td>AI &amp; Analytics</td>\n    </tr>\n    <tr>\n      <th>2</th>\n      <td>Shanghai</td>\n      <td>14.0</td>\n      <td>Associate</td>\n      <td>3-5</td>\n      <td>100-499人</td>\n      <td>Frontend Development</td>\n    </tr>\n    <tr>\n      <th>3</th>\n      <td>Shanghai</td>\n      <td>18.0</td>\n      <td>Associate</td>\n      <td>unlimited</td>\n      <td>20-99人</td>\n      <td>Backend Development</td>\n    </tr>\n    <tr>\n      <th>4</th>\n      <td>Shanghai</td>\n      <td>15.0</td>\n      <td>Bachelor</td>\n      <td>unlimited</td>\n      <td>10000人以上</td>\n      <td>Backend Development</td>\n    </tr>\n  </tbody>\n</table>\n</div>"
     },
     "execution_count": 203,
     "metadata": {},
     "output_type": "execute_result"
    }
   ],
   "source": [
    "# Retain only the specified columns\n",
    "columns_to_keep = ['city', 'average_salary', 'education', 'experience', 'company_size', '分类']\n",
    "filtered_data = data[columns_to_keep]\n",
    "# Dictionary to translate city names\n",
    "city_translations = {\n",
    "    '北京': 'Beijing', '上海': 'Shanghai', '广州': 'Guangzhou', '深圳': 'Shenzhen',\n",
    "    '杭州': 'Hangzhou', '成都': 'Chengdu', '武汉': 'Wuhan', '重庆': 'Chongqing',\n",
    "    '南京': 'Nanjing', '西安': 'Xi\\'an', '天津': 'Tianjin', '苏州': 'Suzhou'\n",
    "}\n",
    "\n",
    "# Dictionary to translate categories\n",
    "category_translations = {\n",
    "    '后端开发': 'Backend Development',\n",
    "    '人工智能&分析决策': 'AI & Analytics',\n",
    "    '前端开发': 'Frontend Development',\n",
    "    '移动开发': 'Mobile Development',\n",
    "    '数据科学': 'Data Science',\n",
    "    '测试': 'Testing',\n",
    "    '运维': 'System Admin',\n",
    "    '网络安全': 'Cybersecurity',\n",
    "    '游戏开发': 'Game Development',\n",
    "    \"其他\": 'Others'\n",
    "}\n",
    "\n",
    "# Apply translations and clean up company_size\n",
    "filtered_data['city'] = filtered_data['city'].map(city_translations).fillna(filtered_data['city'])\n",
    "filtered_data['分类'] = filtered_data['分类'].map(category_translations).fillna(filtered_data['分类'])\n",
    "filtered_data['company_size'] = filtered_data['company_size'].str.extract('(\\d+-\\d+人|\\d+人以上)')\n",
    "\n",
    "# Display the first few rows of the modified dataframe\n",
    "filtered_data.head()\n"
   ],
   "metadata": {
    "collapsed": false,
    "ExecuteTime": {
     "end_time": "2024-04-18T10:32:28.419508Z",
     "start_time": "2024-04-18T10:32:28.403968Z"
    }
   },
   "id": "cd5090d2e2c28f37",
   "execution_count": 203
  },
  {
   "cell_type": "code",
   "outputs": [
    {
     "name": "stderr",
     "output_type": "stream",
     "text": [
      "/var/folders/ct/_hxnz_6n7wqft3v31kp1tyhw0000gn/T/ipykernel_2890/894960022.py:2: SettingWithCopyWarning: \n",
      "A value is trying to be set on a copy of a slice from a DataFrame.\n",
      "Try using .loc[row_indexer,col_indexer] = value instead\n",
      "\n",
      "See the caveats in the documentation: https://pandas.pydata.org/pandas-docs/stable/user_guide/indexing.html#returning-a-view-versus-a-copy\n",
      "  filtered_data['company_size'] = filtered_data['company_size'].str.extract('(\\d+-\\d+|\\d+人以上)')\n"
     ]
    },
    {
     "data": {
      "text/plain": "       city  average_salary  education experience company_size  \\\n0  Shanghai            12.0   Bachelor        3-5        20-99   \n1  Shanghai            42.0     Master        1-3        20-99   \n2  Shanghai            14.0  Associate        3-5      100-499   \n3  Shanghai            18.0  Associate  unlimited        20-99   \n4  Shanghai            15.0   Bachelor  unlimited     10000人以上   \n\n                     分类  \n0   Backend Development  \n1        AI & Analytics  \n2  Frontend Development  \n3   Backend Development  \n4   Backend Development  ",
      "text/html": "<div>\n<style scoped>\n    .dataframe tbody tr th:only-of-type {\n        vertical-align: middle;\n    }\n\n    .dataframe tbody tr th {\n        vertical-align: top;\n    }\n\n    .dataframe thead th {\n        text-align: right;\n    }\n</style>\n<table border=\"1\" class=\"dataframe\">\n  <thead>\n    <tr style=\"text-align: right;\">\n      <th></th>\n      <th>city</th>\n      <th>average_salary</th>\n      <th>education</th>\n      <th>experience</th>\n      <th>company_size</th>\n      <th>分类</th>\n    </tr>\n  </thead>\n  <tbody>\n    <tr>\n      <th>0</th>\n      <td>Shanghai</td>\n      <td>12.0</td>\n      <td>Bachelor</td>\n      <td>3-5</td>\n      <td>20-99</td>\n      <td>Backend Development</td>\n    </tr>\n    <tr>\n      <th>1</th>\n      <td>Shanghai</td>\n      <td>42.0</td>\n      <td>Master</td>\n      <td>1-3</td>\n      <td>20-99</td>\n      <td>AI &amp; Analytics</td>\n    </tr>\n    <tr>\n      <th>2</th>\n      <td>Shanghai</td>\n      <td>14.0</td>\n      <td>Associate</td>\n      <td>3-5</td>\n      <td>100-499</td>\n      <td>Frontend Development</td>\n    </tr>\n    <tr>\n      <th>3</th>\n      <td>Shanghai</td>\n      <td>18.0</td>\n      <td>Associate</td>\n      <td>unlimited</td>\n      <td>20-99</td>\n      <td>Backend Development</td>\n    </tr>\n    <tr>\n      <th>4</th>\n      <td>Shanghai</td>\n      <td>15.0</td>\n      <td>Bachelor</td>\n      <td>unlimited</td>\n      <td>10000人以上</td>\n      <td>Backend Development</td>\n    </tr>\n  </tbody>\n</table>\n</div>"
     },
     "execution_count": 204,
     "metadata": {},
     "output_type": "execute_result"
    }
   ],
   "source": [
    "# Further clean the company_size column to remove Chinese characters\n",
    "filtered_data['company_size'] = filtered_data['company_size'].str.extract('(\\d+-\\d+|\\d+人以上)')\n",
    "\n",
    "# Display the first few rows of the modified dataframe\n",
    "filtered_data.head()\n"
   ],
   "metadata": {
    "collapsed": false,
    "ExecuteTime": {
     "end_time": "2024-04-18T10:32:32.399338Z",
     "start_time": "2024-04-18T10:32:32.383116Z"
    }
   },
   "id": "113227a43c8267",
   "execution_count": 204
  },
  {
   "cell_type": "code",
   "outputs": [
    {
     "name": "stderr",
     "output_type": "stream",
     "text": [
      "/var/folders/ct/_hxnz_6n7wqft3v31kp1tyhw0000gn/T/ipykernel_2890/833337408.py:2: SettingWithCopyWarning: \n",
      "A value is trying to be set on a copy of a slice from a DataFrame.\n",
      "Try using .loc[row_indexer,col_indexer] = value instead\n",
      "\n",
      "See the caveats in the documentation: https://pandas.pydata.org/pandas-docs/stable/user_guide/indexing.html#returning-a-view-versus-a-copy\n",
      "  filtered_data['company_size'] = filtered_data['company_size'].str.replace('人以上', '+').str.replace('10000', 'over 10000')\n",
      "/var/folders/ct/_hxnz_6n7wqft3v31kp1tyhw0000gn/T/ipykernel_2890/833337408.py:3: SettingWithCopyWarning: \n",
      "A value is trying to be set on a copy of a slice from a DataFrame\n",
      "\n",
      "See the caveats in the documentation: https://pandas.pydata.org/pandas-docs/stable/user_guide/indexing.html#returning-a-view-versus-a-copy\n",
      "  filtered_data.rename(columns={'分类': 'category'}, inplace=True)\n"
     ]
    },
    {
     "data": {
      "text/plain": "       city  average_salary  education experience company_size  \\\n0  Shanghai            12.0   Bachelor        3-5        20-99   \n1  Shanghai            42.0     Master        1-3        20-99   \n2  Shanghai            14.0  Associate        3-5      100-499   \n3  Shanghai            18.0  Associate  unlimited        20-99   \n4  Shanghai            15.0   Bachelor  unlimited  over 10000+   \n\n               category  \n0   Backend Development  \n1        AI & Analytics  \n2  Frontend Development  \n3   Backend Development  \n4   Backend Development  ",
      "text/html": "<div>\n<style scoped>\n    .dataframe tbody tr th:only-of-type {\n        vertical-align: middle;\n    }\n\n    .dataframe tbody tr th {\n        vertical-align: top;\n    }\n\n    .dataframe thead th {\n        text-align: right;\n    }\n</style>\n<table border=\"1\" class=\"dataframe\">\n  <thead>\n    <tr style=\"text-align: right;\">\n      <th></th>\n      <th>city</th>\n      <th>average_salary</th>\n      <th>education</th>\n      <th>experience</th>\n      <th>company_size</th>\n      <th>category</th>\n    </tr>\n  </thead>\n  <tbody>\n    <tr>\n      <th>0</th>\n      <td>Shanghai</td>\n      <td>12.0</td>\n      <td>Bachelor</td>\n      <td>3-5</td>\n      <td>20-99</td>\n      <td>Backend Development</td>\n    </tr>\n    <tr>\n      <th>1</th>\n      <td>Shanghai</td>\n      <td>42.0</td>\n      <td>Master</td>\n      <td>1-3</td>\n      <td>20-99</td>\n      <td>AI &amp; Analytics</td>\n    </tr>\n    <tr>\n      <th>2</th>\n      <td>Shanghai</td>\n      <td>14.0</td>\n      <td>Associate</td>\n      <td>3-5</td>\n      <td>100-499</td>\n      <td>Frontend Development</td>\n    </tr>\n    <tr>\n      <th>3</th>\n      <td>Shanghai</td>\n      <td>18.0</td>\n      <td>Associate</td>\n      <td>unlimited</td>\n      <td>20-99</td>\n      <td>Backend Development</td>\n    </tr>\n    <tr>\n      <th>4</th>\n      <td>Shanghai</td>\n      <td>15.0</td>\n      <td>Bachelor</td>\n      <td>unlimited</td>\n      <td>over 10000+</td>\n      <td>Backend Development</td>\n    </tr>\n  </tbody>\n</table>\n</div>"
     },
     "execution_count": 205,
     "metadata": {},
     "output_type": "execute_result"
    }
   ],
   "source": [
    "# Replace \"10000人以上\" with \"over 10000\"\n",
    "filtered_data['company_size'] = filtered_data['company_size'].str.replace('人以上', '+').str.replace('10000', 'over 10000')\n",
    "filtered_data.rename(columns={'分类': 'category'}, inplace=True)\n",
    "# Display the first few rows of the modified dataframe\n",
    "filtered_data.head()\n"
   ],
   "metadata": {
    "collapsed": false,
    "ExecuteTime": {
     "end_time": "2024-04-18T10:32:38.566694Z",
     "start_time": "2024-04-18T10:32:38.542735Z"
    }
   },
   "id": "3c472ed184c15e72",
   "execution_count": 205
  },
  {
   "cell_type": "code",
   "outputs": [],
   "source": [
    "\n",
    "# filtered_data.to_csv('model_data.csv', index=False)\n",
    "\n"
   ],
   "metadata": {
    "collapsed": false,
    "ExecuteTime": {
     "end_time": "2024-04-18T10:32:40.015713Z",
     "start_time": "2024-04-18T10:32:40.005869Z"
    }
   },
   "id": "67998f1e0d85cf1e",
   "execution_count": 206
  },
  {
   "cell_type": "code",
   "outputs": [],
   "source": [
    "data = pd.read_csv('model_data.csv')\n",
    "data.dropna(inplace=True)"
   ],
   "metadata": {
    "collapsed": false,
    "ExecuteTime": {
     "end_time": "2024-04-18T10:33:04.455758Z",
     "start_time": "2024-04-18T10:33:04.421031Z"
    }
   },
   "id": "90deadc1263b0e3a",
   "execution_count": 207
  },
  {
   "cell_type": "code",
   "outputs": [
    {
     "data": {
      "text/plain": "          city  average_salary  education experience company_size  \\\n0     Shanghai            12.0   Bachelor        3-5        20-99   \n1     Shanghai            42.0     Master        1-3        20-99   \n2     Shanghai            14.0  Associate        3-5      100-499   \n3     Shanghai            18.0  Associate  unlimited        20-99   \n4     Shanghai            15.0   Bachelor  unlimited  over 10000+   \n...        ...             ...        ...        ...          ...   \n1039  Shenzhen            42.0   Bachelor       5-10        20-99   \n1040  Shenzhen            21.0  Associate        1-3        20-99   \n1041  Shenzhen            22.0   Bachelor        3-5        20-99   \n1042  Shenzhen            14.0  Associate        3-5      500-999   \n1043  Shenzhen            16.0   Bachelor        1-3        20-99   \n\n                  category  \n0      Backend Development  \n1           AI & Analytics  \n2     Frontend Development  \n3      Backend Development  \n4      Backend Development  \n...                    ...  \n1039                Others  \n1040   Backend Development  \n1041   Backend Development  \n1042   Backend Development  \n1043  Frontend Development  \n\n[1041 rows x 6 columns]",
      "text/html": "<div>\n<style scoped>\n    .dataframe tbody tr th:only-of-type {\n        vertical-align: middle;\n    }\n\n    .dataframe tbody tr th {\n        vertical-align: top;\n    }\n\n    .dataframe thead th {\n        text-align: right;\n    }\n</style>\n<table border=\"1\" class=\"dataframe\">\n  <thead>\n    <tr style=\"text-align: right;\">\n      <th></th>\n      <th>city</th>\n      <th>average_salary</th>\n      <th>education</th>\n      <th>experience</th>\n      <th>company_size</th>\n      <th>category</th>\n    </tr>\n  </thead>\n  <tbody>\n    <tr>\n      <th>0</th>\n      <td>Shanghai</td>\n      <td>12.0</td>\n      <td>Bachelor</td>\n      <td>3-5</td>\n      <td>20-99</td>\n      <td>Backend Development</td>\n    </tr>\n    <tr>\n      <th>1</th>\n      <td>Shanghai</td>\n      <td>42.0</td>\n      <td>Master</td>\n      <td>1-3</td>\n      <td>20-99</td>\n      <td>AI &amp; Analytics</td>\n    </tr>\n    <tr>\n      <th>2</th>\n      <td>Shanghai</td>\n      <td>14.0</td>\n      <td>Associate</td>\n      <td>3-5</td>\n      <td>100-499</td>\n      <td>Frontend Development</td>\n    </tr>\n    <tr>\n      <th>3</th>\n      <td>Shanghai</td>\n      <td>18.0</td>\n      <td>Associate</td>\n      <td>unlimited</td>\n      <td>20-99</td>\n      <td>Backend Development</td>\n    </tr>\n    <tr>\n      <th>4</th>\n      <td>Shanghai</td>\n      <td>15.0</td>\n      <td>Bachelor</td>\n      <td>unlimited</td>\n      <td>over 10000+</td>\n      <td>Backend Development</td>\n    </tr>\n    <tr>\n      <th>...</th>\n      <td>...</td>\n      <td>...</td>\n      <td>...</td>\n      <td>...</td>\n      <td>...</td>\n      <td>...</td>\n    </tr>\n    <tr>\n      <th>1039</th>\n      <td>Shenzhen</td>\n      <td>42.0</td>\n      <td>Bachelor</td>\n      <td>5-10</td>\n      <td>20-99</td>\n      <td>Others</td>\n    </tr>\n    <tr>\n      <th>1040</th>\n      <td>Shenzhen</td>\n      <td>21.0</td>\n      <td>Associate</td>\n      <td>1-3</td>\n      <td>20-99</td>\n      <td>Backend Development</td>\n    </tr>\n    <tr>\n      <th>1041</th>\n      <td>Shenzhen</td>\n      <td>22.0</td>\n      <td>Bachelor</td>\n      <td>3-5</td>\n      <td>20-99</td>\n      <td>Backend Development</td>\n    </tr>\n    <tr>\n      <th>1042</th>\n      <td>Shenzhen</td>\n      <td>14.0</td>\n      <td>Associate</td>\n      <td>3-5</td>\n      <td>500-999</td>\n      <td>Backend Development</td>\n    </tr>\n    <tr>\n      <th>1043</th>\n      <td>Shenzhen</td>\n      <td>16.0</td>\n      <td>Bachelor</td>\n      <td>1-3</td>\n      <td>20-99</td>\n      <td>Frontend Development</td>\n    </tr>\n  </tbody>\n</table>\n<p>1041 rows × 6 columns</p>\n</div>"
     },
     "execution_count": 208,
     "metadata": {},
     "output_type": "execute_result"
    }
   ],
   "source": [
    "data"
   ],
   "metadata": {
    "collapsed": false,
    "ExecuteTime": {
     "end_time": "2024-04-18T10:33:05.698351Z",
     "start_time": "2024-04-18T10:33:05.687364Z"
    }
   },
   "id": "c820466299dea9ec",
   "execution_count": 208
  },
  {
   "cell_type": "code",
   "outputs": [],
   "source": [
    "\n",
    "from sklearn.model_selection import train_test_split\n",
    "from sklearn.preprocessing import LabelEncoder\n",
    "import xgboost as xgb\n",
    "\n",
    "# Encode categorical variables\n",
    "le_education = LabelEncoder()\n",
    "le_experience = LabelEncoder()\n",
    "le_company_type = LabelEncoder()\n",
    "le_company_size = LabelEncoder()\n",
    "le_category = LabelEncoder()\n",
    "le_city = LabelEncoder()  # 创建一个新的LabelEncoder对象用于城市变量的编码\n",
    "\n",
    "data['education'] = le_education.fit_transform(data['education'])\n",
    "data['experience'] = le_experience.fit_transform(data['experience'])\n",
    "data['company_size'] = le_company_size.fit_transform(data['company_size'])\n",
    "data['category'] = le_category.fit_transform(data['category'])\n",
    "data['city'] = le_city.fit_transform(data['city'])\n",
    "\n",
    "\n"
   ],
   "metadata": {
    "collapsed": false,
    "ExecuteTime": {
     "end_time": "2024-04-18T10:33:08.550620Z",
     "start_time": "2024-04-18T10:33:08.541546Z"
    }
   },
   "id": "b278be1ea77ca99e",
   "execution_count": 209
  },
  {
   "cell_type": "code",
   "outputs": [
    {
     "data": {
      "text/plain": "   city  average_salary  education  experience  company_size  category\n0     2            12.0          1           1             3         1\n1     2            42.0          3           0             3         0\n2     2            14.0          0           1             1         2\n3     2            18.0          0           4             3         1\n4     2            15.0          1           4             5         1",
      "text/html": "<div>\n<style scoped>\n    .dataframe tbody tr th:only-of-type {\n        vertical-align: middle;\n    }\n\n    .dataframe tbody tr th {\n        vertical-align: top;\n    }\n\n    .dataframe thead th {\n        text-align: right;\n    }\n</style>\n<table border=\"1\" class=\"dataframe\">\n  <thead>\n    <tr style=\"text-align: right;\">\n      <th></th>\n      <th>city</th>\n      <th>average_salary</th>\n      <th>education</th>\n      <th>experience</th>\n      <th>company_size</th>\n      <th>category</th>\n    </tr>\n  </thead>\n  <tbody>\n    <tr>\n      <th>0</th>\n      <td>2</td>\n      <td>12.0</td>\n      <td>1</td>\n      <td>1</td>\n      <td>3</td>\n      <td>1</td>\n    </tr>\n    <tr>\n      <th>1</th>\n      <td>2</td>\n      <td>42.0</td>\n      <td>3</td>\n      <td>0</td>\n      <td>3</td>\n      <td>0</td>\n    </tr>\n    <tr>\n      <th>2</th>\n      <td>2</td>\n      <td>14.0</td>\n      <td>0</td>\n      <td>1</td>\n      <td>1</td>\n      <td>2</td>\n    </tr>\n    <tr>\n      <th>3</th>\n      <td>2</td>\n      <td>18.0</td>\n      <td>0</td>\n      <td>4</td>\n      <td>3</td>\n      <td>1</td>\n    </tr>\n    <tr>\n      <th>4</th>\n      <td>2</td>\n      <td>15.0</td>\n      <td>1</td>\n      <td>4</td>\n      <td>5</td>\n      <td>1</td>\n    </tr>\n  </tbody>\n</table>\n</div>"
     },
     "execution_count": 171,
     "metadata": {},
     "output_type": "execute_result"
    }
   ],
   "source": [
    "data.head()"
   ],
   "metadata": {
    "collapsed": false,
    "ExecuteTime": {
     "end_time": "2024-04-18T09:43:09.645806Z",
     "start_time": "2024-04-18T09:43:09.629562Z"
    }
   },
   "id": "932a0dee46f0df53",
   "execution_count": 171
  },
  {
   "cell_type": "code",
   "outputs": [
    {
     "data": {
      "text/plain": "(0.5680700935002287, 0.44698200663766563)"
     },
     "execution_count": 177,
     "metadata": {},
     "output_type": "execute_result"
    }
   ],
   "source": [
    "# Prepare features and target\n",
    "X = data.drop('average_salary', axis=1)\n",
    "y = data['average_salary']\n",
    "\n",
    "# Split data into train and test sets\n",
    "X_train, X_test, y_train, y_test = train_test_split(X, y, test_size=0.25, random_state=42)\n",
    "\n",
    "# Initialize and train the XGBoost model\n",
    "xgb_model = xgb.XGBRegressor(objective ='reg:squarederror', colsample_bytree = 0.6, learning_rate = 0.05,\n",
    "                             max_depth = 9, alpha = 29, n_estimators = 1000)\n",
    "\n",
    "xgb_model.fit(X_train, y_train)\n",
    "\n",
    "# Calculate training and testing accuracy\n",
    "training_accuracy = xgb_model.score(X_train, y_train)\n",
    "testing_accuracy = xgb_model.score(X_test, y_test)\n",
    "\n",
    "training_accuracy, testing_accuracy"
   ],
   "metadata": {
    "collapsed": false,
    "ExecuteTime": {
     "end_time": "2024-04-18T09:45:19.604782Z",
     "start_time": "2024-04-18T09:45:19.448473Z"
    }
   },
   "id": "b3c700e7ae40b6fa",
   "execution_count": 177
  },
  {
   "cell_type": "code",
   "outputs": [
    {
     "data": {
      "text/plain": "0.054911217262161305"
     },
     "execution_count": 173,
     "metadata": {},
     "output_type": "execute_result"
    }
   ],
   "source": [
    "from sklearn.linear_model import LinearRegression\n",
    "from sklearn.metrics import r2_score\n",
    "lr_model = LinearRegression()\n",
    "lr_model.fit(X_train, y_train)\n",
    "y_pred = lr_model.predict(X_test)\n",
    "lr_score = r2_score(y_test, y_pred)\n",
    "lr_score"
   ],
   "metadata": {
    "collapsed": false,
    "ExecuteTime": {
     "end_time": "2024-04-18T09:43:20.202669Z",
     "start_time": "2024-04-18T09:43:20.195870Z"
    }
   },
   "id": "69149c0b321c1c8c",
   "execution_count": 173
  },
  {
   "cell_type": "code",
   "outputs": [
    {
     "name": "stdout",
     "output_type": "stream",
     "text": [
      "0.3027228741559391\n"
     ]
    }
   ],
   "source": [
    "from sklearn.svm import SVR\n",
    "svr_model = SVR(kernel='rbf', C=100, gamma=0.1, epsilon=0.1)\n",
    "svr_model.fit(X_train, y_train)\n",
    "y_pred_svr = svr_model.predict(X_test)\n",
    "svr_score = r2_score(y_test, y_pred_svr)\n",
    "\n",
    "print(svr_score)"
   ],
   "metadata": {
    "collapsed": false,
    "ExecuteTime": {
     "end_time": "2024-04-18T09:43:21.052092Z",
     "start_time": "2024-04-18T09:43:21.003435Z"
    }
   },
   "id": "a9f37a49aa6b199c",
   "execution_count": 174
  },
  {
   "cell_type": "code",
   "outputs": [
    {
     "name": "stdout",
     "output_type": "stream",
     "text": [
      "Epoch [100/10000], Loss: 88.9397\n",
      "Epoch [200/10000], Loss: 72.1931\n",
      "Epoch [300/10000], Loss: 64.4460\n",
      "Epoch [400/10000], Loss: 56.6289\n",
      "Epoch [500/10000], Loss: 53.9485\n",
      "Epoch [600/10000], Loss: 49.9830\n",
      "Epoch [700/10000], Loss: 46.9862\n",
      "Epoch [800/10000], Loss: 45.9296\n",
      "Epoch [900/10000], Loss: 46.5407\n",
      "Epoch [1000/10000], Loss: 42.1466\n",
      "Epoch [1100/10000], Loss: 40.4765\n",
      "Epoch [1200/10000], Loss: 38.7936\n",
      "Epoch [1300/10000], Loss: 38.5895\n",
      "Epoch [1400/10000], Loss: 37.8519\n",
      "Epoch [1500/10000], Loss: 37.1650\n",
      "Epoch [1600/10000], Loss: 36.8136\n",
      "Epoch [1700/10000], Loss: 36.5725\n",
      "Epoch [1800/10000], Loss: 36.4618\n",
      "Epoch [1900/10000], Loss: 39.0899\n",
      "Epoch [2000/10000], Loss: 37.1144\n",
      "Epoch [2100/10000], Loss: 36.6079\n",
      "Epoch [2200/10000], Loss: 36.3087\n",
      "Epoch [2300/10000], Loss: 36.1271\n",
      "Epoch [2400/10000], Loss: 36.0057\n",
      "Epoch [2500/10000], Loss: 36.1887\n",
      "Epoch [2600/10000], Loss: 35.8736\n",
      "Epoch [2700/10000], Loss: 35.8227\n",
      "Epoch [2800/10000], Loss: 109.2738\n",
      "Epoch [2900/10000], Loss: 36.1994\n",
      "Epoch [3000/10000], Loss: 35.8914\n",
      "Epoch [3100/10000], Loss: 35.7651\n",
      "Epoch [3200/10000], Loss: 35.6883\n",
      "Epoch [3300/10000], Loss: 35.6312\n",
      "Epoch [3400/10000], Loss: 35.5936\n",
      "Epoch [3500/10000], Loss: 35.5749\n",
      "Epoch [3600/10000], Loss: 37.7040\n",
      "Epoch [3700/10000], Loss: 35.5178\n",
      "Epoch [3800/10000], Loss: 40.6941\n",
      "Epoch [3900/10000], Loss: 35.5884\n",
      "Epoch [4000/10000], Loss: 35.5106\n",
      "Epoch [4100/10000], Loss: 35.4911\n",
      "Epoch [4200/10000], Loss: 35.4792\n",
      "Epoch [4300/10000], Loss: 35.4714\n",
      "Epoch [4400/10000], Loss: 35.4703\n",
      "Epoch [4500/10000], Loss: 49.3540\n",
      "Epoch [4600/10000], Loss: 35.7223\n",
      "Epoch [4700/10000], Loss: 35.5511\n",
      "Epoch [4800/10000], Loss: 35.5033\n",
      "Epoch [4900/10000], Loss: 35.4807\n",
      "Epoch [5000/10000], Loss: 35.4683\n",
      "Epoch [5100/10000], Loss: 35.4607\n",
      "Epoch [5200/10000], Loss: 35.4554\n",
      "Epoch [5300/10000], Loss: 35.4517\n",
      "Epoch [5400/10000], Loss: 35.4493\n",
      "Epoch [5500/10000], Loss: 35.4509\n",
      "Epoch [5600/10000], Loss: 35.4472\n",
      "Epoch [5700/10000], Loss: 35.6399\n",
      "Epoch [5800/10000], Loss: 35.4464\n",
      "Epoch [5900/10000], Loss: 35.5040\n",
      "Epoch [6000/10000], Loss: 36.4842\n",
      "Epoch [6100/10000], Loss: 35.4486\n",
      "Epoch [6200/10000], Loss: 35.4454\n",
      "Epoch [6300/10000], Loss: 35.4444\n",
      "Epoch [6400/10000], Loss: 35.4440\n",
      "Epoch [6500/10000], Loss: 35.4904\n",
      "Epoch [6600/10000], Loss: 40.9802\n",
      "Epoch [6700/10000], Loss: 35.4630\n",
      "Epoch [6800/10000], Loss: 35.4481\n",
      "Epoch [6900/10000], Loss: 35.4452\n",
      "Epoch [7000/10000], Loss: 35.4443\n",
      "Epoch [7100/10000], Loss: 35.4439\n",
      "Epoch [7200/10000], Loss: 35.4437\n",
      "Epoch [7300/10000], Loss: 35.4968\n",
      "Epoch [7400/10000], Loss: 35.4438\n",
      "Epoch [7500/10000], Loss: 35.4446\n",
      "Epoch [7600/10000], Loss: 35.4515\n",
      "Epoch [7700/10000], Loss: 35.4442\n",
      "Epoch [7800/10000], Loss: 35.4435\n",
      "Epoch [7900/10000], Loss: 35.4434\n",
      "Epoch [8000/10000], Loss: 35.4500\n",
      "Epoch [8100/10000], Loss: 38.0051\n",
      "Epoch [8200/10000], Loss: 35.4532\n",
      "Epoch [8300/10000], Loss: 35.4452\n",
      "Epoch [8400/10000], Loss: 35.4439\n",
      "Epoch [8500/10000], Loss: 35.4435\n",
      "Epoch [8600/10000], Loss: 35.4434\n",
      "Epoch [8700/10000], Loss: 35.4433\n",
      "Epoch [8800/10000], Loss: 35.4433\n",
      "Epoch [8900/10000], Loss: 35.4603\n",
      "Epoch [9000/10000], Loss: 36.5040\n",
      "Epoch [9100/10000], Loss: 35.4437\n",
      "Epoch [9200/10000], Loss: 35.4433\n",
      "Epoch [9300/10000], Loss: 35.5501\n",
      "Epoch [9400/10000], Loss: 35.4438\n",
      "Epoch [9500/10000], Loss: 35.4434\n",
      "Epoch [9600/10000], Loss: 35.4759\n",
      "Epoch [9700/10000], Loss: 35.4434\n",
      "Epoch [9800/10000], Loss: 41.3337\n",
      "Epoch [9900/10000], Loss: 37.2980\n",
      "Epoch [10000/10000], Loss: 36.2929\n",
      "神经网络模型的 R^2 分数: -0.022680864314379656\n"
     ]
    }
   ],
   "source": [
    "import torch\n",
    "import torch.nn as nn\n",
    "import torch.optim as optim\n",
    "from torch.autograd import Variable\n",
    "import numpy as np\n",
    "\n",
    "# 转换数据为 PyTorch 张量\n",
    "X_train_tensor = torch.tensor(X_train.values, dtype=torch.float32)\n",
    "y_train_tensor = torch.tensor(y_train.values, dtype=torch.float32).view(-1, 1)\n",
    "X_test_tensor = torch.tensor(X_test.values, dtype=torch.float32)\n",
    "\n",
    "# 定义包含两个额外隐藏层的神经网络模型\n",
    "class SimpleNN(nn.Module):\n",
    "    def __init__(self, input_size, hidden_size1, hidden_size2, hidden_size3, output_size):\n",
    "        super(SimpleNN, self).__init__()\n",
    "        self.fc1 = nn.Linear(input_size, hidden_size1)\n",
    "        self.relu1 = nn.ReLU()\n",
    "        self.fc2 = nn.Linear(hidden_size1, hidden_size2)\n",
    "        self.relu2 = nn.ReLU()\n",
    "        self.fc3 = nn.Linear(hidden_size2, hidden_size3)\n",
    "        self.relu3 = nn.ReLU()\n",
    "        self.fc4 = nn.Linear(hidden_size3, output_size)\n",
    "\n",
    "    def forward(self, x):\n",
    "        out = self.fc1(x)\n",
    "        out = self.relu1(out)\n",
    "        out = self.fc2(out)\n",
    "        out = self.relu2(out)\n",
    "        out = self.fc3(out)\n",
    "        out = self.relu3(out)\n",
    "        out = self.fc4(out)\n",
    "        return out\n",
    "\n",
    "# 初始化模型\n",
    "input_size = X_train.shape[1]\n",
    "hidden_size1 = 128\n",
    "hidden_size2 = 64\n",
    "hidden_size3 = 32\n",
    "output_size = 1\n",
    "model = SimpleNN(input_size, hidden_size1, hidden_size2, hidden_size3, output_size)\n",
    "\n",
    "# 定义损失函数和优化器\n",
    "criterion = nn.MSELoss()\n",
    "optimizer = optim.Adam(model.parameters(), lr=0.01)\n",
    "\n",
    "# 训练模型\n",
    "num_epochs = 10000\n",
    "for epoch in range(num_epochs):\n",
    "    inputs = Variable(X_train_tensor)\n",
    "    targets = Variable(y_train_tensor)\n",
    "\n",
    "    optimizer.zero_grad()\n",
    "    outputs = model(inputs)\n",
    "\n",
    "    loss = criterion(outputs, targets)\n",
    "    loss.backward()\n",
    "\n",
    "    optimizer.step()\n",
    "\n",
    "    if (epoch+1) % 100 == 0:\n",
    "        print('Epoch [{}/{}], Loss: {:.4f}'.format(epoch+1, num_epochs, loss.item()))\n",
    "\n",
    "# 在测试集上进行预测\n",
    "with torch.no_grad():\n",
    "    inputs = Variable(X_test_tensor)\n",
    "    outputs = model(inputs)\n",
    "    predicted = outputs.numpy()\n",
    "\n",
    "# 计算神经网络模型的 R^2 分数\n",
    "nn_score = r2_score(y_test, predicted)\n",
    "\n",
    "print(\"神经网络模型的 R^2 分数:\", nn_score)\n"
   ],
   "metadata": {
    "collapsed": false,
    "ExecuteTime": {
     "end_time": "2024-04-18T09:43:29.666060Z",
     "start_time": "2024-04-18T09:43:22.093129Z"
    }
   },
   "id": "b3d1cdde91b22395",
   "execution_count": 175
  },
  {
   "cell_type": "code",
   "outputs": [
    {
     "data": {
      "text/plain": "['model.joblib']"
     },
     "execution_count": 178,
     "metadata": {},
     "output_type": "execute_result"
    }
   ],
   "source": [
    "from joblib import dump\n",
    "\n",
    "# 假设 `pipeline` 是您的训练好的模型\n",
    "dump(xgb_model, 'model.joblib')"
   ],
   "metadata": {
    "collapsed": false,
    "ExecuteTime": {
     "end_time": "2024-04-18T10:20:33.199826Z",
     "start_time": "2024-04-18T10:20:33.182697Z"
    }
   },
   "id": "402410d3593941b1",
   "execution_count": 178
  },
  {
   "cell_type": "code",
   "outputs": [
    {
     "data": {
      "text/plain": "array([13.29599  , 14.496778 , 28.828856 ,  9.042927 , 16.393763 ,\n       15.266108 , 22.913143 , 25.888048 , 32.337803 , 15.790975 ,\n       26.305872 , 16.885147 , 11.982718 , 26.38901  , 28.384853 ,\n       20.499508 , 21.86034  , 24.076729 , 22.072691 , 25.601196 ,\n       14.5968485, 13.390535 ,  8.1468725, 34.92166  , 32.08222  ,\n       21.8331   , 24.336555 , 18.1537   ,  6.2224646, 31.399145 ,\n        9.77819  , 22.193071 , 13.306944 , 17.193356 , 10.426996 ,\n       29.341473 , 16.968834 , 17.853333 , 30.32078  , 16.016003 ,\n       25.1035   , 37.28286  , 30.569426 , 20.833462 , 34.246197 ,\n       22.478685 , 15.742665 , 32.25887  , 21.108425 , 15.790975 ,\n       26.972847 , 25.597563 , 10.488169 , 10.168922 , 18.29322  ,\n       12.154493 , 10.426996 , 14.1301155, 22.212236 , 18.387205 ,\n       29.621489 , 34.70946  , 13.204463 , 10.488169 , 42.146812 ,\n       10.785811 , 18.287891 , 16.654955 , 32.337803 , 12.9721775,\n       32.08222  , 11.360853 , 22.212236 , 14.845339 , 17.487783 ,\n       31.959393 , 27.253397 , 20.833462 , 23.680845 , 13.156394 ,\n       16.933346 , 18.034595 , 29.341473 , 17.771622 , 15.790975 ,\n        9.77819  , 21.8331   ,  9.605169 ,  4.604187 , 13.275803 ,\n       10.488169 , 14.5968485, 28.296515 , 28.116852 , 31.884596 ,\n       26.81403  , 21.405031 , 16.28797  ,  8.541867 , 13.7952   ,\n       18.668934 , 10.455612 , 13.950473 , 11.494526 , 22.464766 ,\n       19.921497 , 25.431183 , 12.259802 ,  9.501828 , 10.552814 ,\n       28.384853 , 28.116852 , 14.044477 , 13.607259 , 14.236387 ,\n       25.395613 , 12.525503 , 12.119225 , 11.360458 , 12.527276 ,\n       21.26417  , 29.596054 , 10.785811 ,  7.6445346,  8.157847 ,\n       13.29599  , 11.141921 , 14.888182 , 19.016665 , 18.699072 ,\n       23.121378 , 17.939325 , 15.998978 , 18.668934 ,  8.75324  ,\n       18.274918 , 14.693868 , 16.968834 , 17.149979 , 13.10756  ,\n       12.754361 , 22.153704 , 12.525503 , 21.933588 , 29.466053 ,\n       22.055292 , 17.193356 , 27.239616 , 30.285414 , 15.998978 ,\n       13.847528 , 18.189915 , 19.857864 , 15.594139 , 21.067076 ,\n       33.438362 , 38.60061  ,  6.7763863, 10.488169 , 32.664017 ,\n       24.21163  , 29.819778 , 28.798151 ,  9.390187 , 11.056267 ,\n       24.181059 , 44.573624 , 27.239616 , 14.1301155, 26.63014  ,\n       11.9217615, 16.28797  , 21.271692 , 37.613377 , 25.1035   ,\n       19.405832 ,  8.79079  , 24.018045 , 28.6266   , 20.833462 ,\n       10.519837 ,  6.1929917, 17.341505 ,  6.1915865, 20.82212  ,\n       27.31749  ,  6.7763863, 19.2665   , 12.457246 , 14.142201 ,\n       17.39443  , 11.658031 , 29.491129 , 21.595917 , 22.478685 ,\n       26.972847 , 26.721886 , 24.55647  ,  9.944422 , 18.471674 ,\n       18.472025 , 21.108425 ,  9.740826 , 26.721886 , 34.418358 ,\n       23.655642 ,  9.750622 , 13.390535 , 31.103947 , 31.597143 ,\n       12.928224 , 15.490478 , 31.114399 , 14.5968485,  6.4663887,\n       28.962889 , 31.884596 , 19.106508 , 12.525503 , 18.472025 ,\n       11.658031 , 11.360853 , 21.067076 , 13.041104 , 24.926243 ,\n       13.306944 , 22.212236 , 25.650406 , 32.08222  , 29.490993 ,\n       26.38901  , 36.40093  , 21.26417  ,  9.530689 , 12.427909 ,\n       21.108425 , 25.672266 , 23.228024 , 21.213436 , 26.721886 ,\n       31.114399 , 12.874396 , 26.38901  , 23.934063 , 11.525649 ,\n       18.472025 , 25.62862  , 23.379448 , 12.32579  , 23.121378 ,\n       26.300747 , 26.703127 , 17.341505 , 13.494875 , 20.833462 ,\n       19.94665  , 11.470447 ,  8.283359 , 34.246197 , 17.193356 ,\n       21.108425 ], dtype=float32)"
     },
     "execution_count": 179,
     "metadata": {},
     "output_type": "execute_result"
    }
   ],
   "source": [
    "xgb_model.predict(X_test)"
   ],
   "metadata": {
    "collapsed": false,
    "ExecuteTime": {
     "end_time": "2024-04-18T10:22:52.765613Z",
     "start_time": "2024-04-18T10:22:52.744732Z"
    }
   },
   "id": "d292a7964479ac72",
   "execution_count": 179
  },
  {
   "cell_type": "code",
   "outputs": [
    {
     "name": "stdout",
     "output_type": "stream",
     "text": [
      "Education Classes: ['Associate' 'Bachelor' 'Doctor' 'Master' 'Unlimited']\n",
      "Experience Classes: ['1-3' '3-5' '5-10' 'over 10' 'unlimited']\n",
      "Company Size Classes: ['0-20' '100-499' '1000-9999' '20-99' '500-999' 'over 10000+']\n",
      "Category Classes: ['AI & Analytics' 'Backend Development' 'Frontend Development' 'Others'\n",
      " 'System Admin']\n",
      "City Classes: ['Beijing' 'Guangzhou' 'Shanghai' 'Shenzhen']\n"
     ]
    }
   ],
   "source": [
    "education_classes = le_education.classes_\n",
    "experience_classes = le_experience.classes_\n",
    "company_size_classes = le_company_size.classes_\n",
    "category_classes = le_category.classes_\n",
    "city_classes = le_city.classes_\n",
    "\n",
    "print(\"Education Classes:\", education_classes)\n",
    "print(\"Experience Classes:\", experience_classes)\n",
    "print(\"Company Size Classes:\", company_size_classes)\n",
    "print(\"Category Classes:\", category_classes)\n",
    "print(\"City Classes:\", city_classes)"
   ],
   "metadata": {
    "collapsed": false,
    "ExecuteTime": {
     "end_time": "2024-04-18T10:33:15.788622Z",
     "start_time": "2024-04-18T10:33:15.784950Z"
    }
   },
   "id": "7f749415098745de",
   "execution_count": 210
  },
  {
   "cell_type": "code",
   "outputs": [
    {
     "name": "stdout",
     "output_type": "stream",
     "text": [
      "Education Mapping: {0: 'Associate', 1: 'Bachelor', 2: 'Doctor', 3: 'Master', 4: 'Unlimited'}\n",
      "Experience Mapping: {0: '1-3', 1: '3-5', 2: '5-10', 3: 'over 10', 4: 'unlimited'}\n",
      "Company Size Mapping: {0: '0-20', 1: '100-499', 2: '1000-9999', 3: '20-99', 4: '500-999', 5: 'over 10000+'}\n",
      "Category Mapping: {0: 'AI & Analytics', 1: 'Backend Development', 2: 'Frontend Development', 3: 'Others', 4: 'System Admin'}\n",
      "City Mapping: {0: 'Beijing', 1: 'Guangzhou', 2: 'Shanghai', 3: 'Shenzhen'}\n"
     ]
    }
   ],
   "source": [
    "education_mapping = dict(zip(le_education.transform(le_education.classes_), le_education.classes_))\n",
    "experience_mapping = dict(zip(le_experience.transform(le_experience.classes_), le_experience.classes_))\n",
    "company_size_mapping = dict(zip(le_company_size.transform(le_company_size.classes_), le_company_size.classes_))\n",
    "category_mapping = dict(zip(le_category.transform(le_category.classes_), le_category.classes_))\n",
    "city_mapping = dict(zip(le_city.transform(le_city.classes_), le_city.classes_))\n",
    "\n",
    "print(\"Education Mapping:\", education_mapping)\n",
    "print(\"Experience Mapping:\", experience_mapping)\n",
    "print(\"Company Size Mapping:\", company_size_mapping)\n",
    "print(\"Category Mapping:\", category_mapping)\n",
    "print(\"City Mapping:\", city_mapping)"
   ],
   "metadata": {
    "collapsed": false,
    "ExecuteTime": {
     "end_time": "2024-04-18T10:33:51.954663Z",
     "start_time": "2024-04-18T10:33:51.948937Z"
    }
   },
   "id": "d7885ea853a24f47",
   "execution_count": 212
  },
  {
   "cell_type": "code",
   "outputs": [],
   "source": [],
   "metadata": {
    "collapsed": false
   },
   "id": "3036018292a92a1a"
  }
 ],
 "metadata": {
  "kernelspec": {
   "display_name": "Python 3",
   "language": "python",
   "name": "python3"
  },
  "language_info": {
   "codemirror_mode": {
    "name": "ipython",
    "version": 2
   },
   "file_extension": ".py",
   "mimetype": "text/x-python",
   "name": "python",
   "nbconvert_exporter": "python",
   "pygments_lexer": "ipython2",
   "version": "2.7.6"
  }
 },
 "nbformat": 4,
 "nbformat_minor": 5
}
